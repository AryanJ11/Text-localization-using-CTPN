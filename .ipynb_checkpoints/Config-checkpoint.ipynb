{
 "cells": [
  {
   "cell_type": "code",
   "execution_count": 1,
   "metadata": {},
   "outputs": [],
   "source": [
    "import os"
   ]
  },
  {
   "cell_type": "code",
   "execution_count": 2,
   "metadata": {},
   "outputs": [],
   "source": [
    "base_dir='.'\n",
    "\n",
    "train_im=os.path.join(base_dir,r\"./icdar_train_im\") \n",
    "train_txt=os.path.join(base_dir,r\"./icdar_train_txt\")\n",
    "\n",
    "test_im=os.path.join(base_dir,r\"./icdar_test_im\") \n",
    "test_txt=os.path.join(base_dir,r\"./icdar_test_txt\") \n",
    "\n",
    "IOU_NEGATIVE = 0.3\n",
    "IOU_POSITIVE = 0.7\n",
    "\n",
    "height, width=(512, 512)\n",
    "\n",
    "tar_pos=128\n",
    "total_anch=256\n",
    "\n",
    "checkpoints_dir = r\"./checkpoints\""
   ]
  }
 ],
 "metadata": {
  "kernelspec": {
   "display_name": "Python 3",
   "language": "python",
   "name": "python3"
  },
  "language_info": {
   "codemirror_mode": {
    "name": "ipython",
    "version": 3
   },
   "file_extension": ".py",
   "mimetype": "text/x-python",
   "name": "python",
   "nbconvert_exporter": "python",
   "pygments_lexer": "ipython3",
   "version": "3.7.9"
  }
 },
 "nbformat": 4,
 "nbformat_minor": 4
}
